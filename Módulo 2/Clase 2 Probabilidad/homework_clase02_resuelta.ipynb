{
 "cells": [
  {
   "cell_type": "code",
   "execution_count": 1,
   "metadata": {},
   "outputs": [
    {
     "name": "stdout",
     "output_type": "stream",
     "text": [
      "Los resultados posibles son: 4\n"
     ]
    }
   ],
   "source": [
    "#1 Regla de conteo para pasos multiples\n",
    "nro_tiros = int(input(\"¿Cuántas veces se va a tirar la moneda: \"))\n",
    "resultados = 2 ** nro_tiros\n",
    "print(\"Los resultados posibles son:\", resultados)"
   ]
  },
  {
   "cell_type": "code",
   "execution_count": 2,
   "metadata": {},
   "outputs": [
    {
     "name": "stdout",
     "output_type": "stream",
     "text": [
      "120.0\n",
      "720.0\n"
     ]
    }
   ],
   "source": [
    "#2 Regla de combinaciones \n",
    "from math import factorial\n",
    "#Combinación\n",
    "control_aeropuerto = factorial(10) / (factorial(3) * factorial(10-3))\n",
    "print(control_aeropuerto)\n",
    "#Permutación\n",
    "control_aeropuerto = factorial(10) / factorial(10-3)\n",
    "print(control_aeropuerto)\n",
    "#abc   bac   cab\n",
    "#acb   bca   cba"
   ]
  },
  {
   "cell_type": "code",
   "execution_count": 3,
   "metadata": {},
   "outputs": [
    {
     "data": {
      "text/plain": [
       "{'Ana': 33, 'Roberto': 23}"
      ]
     },
     "execution_count": 3,
     "metadata": {},
     "output_type": "execute_result"
    }
   ],
   "source": [
    "#Bonus track\n",
    "#impares = list(range(1, 100, 2))\n",
    "#edades = {'Ana': 33, 'Roberto': 23}\n",
    "edades = dict(Ana = 33, Roberto = 23)\n",
    "edades"
   ]
  },
  {
   "cell_type": "code",
   "execution_count": 4,
   "metadata": {},
   "outputs": [
    {
     "name": "stdout",
     "output_type": "stream",
     "text": [
      "               Si        No     Total\n",
      "Norte    0.136280  0.047882  0.184162\n",
      "Noreste  0.149171  0.049724  0.198895\n",
      "Sur      0.272560  0.068140  0.340700\n",
      "Centro   0.232044  0.044199  0.276243\n",
      "Total    0.790055  0.209945  1.000000\n"
     ]
    },
    {
     "data": {
      "text/plain": [
       "Norte      0.740000\n",
       "Noreste    0.750000\n",
       "Sur        0.800000\n",
       "Centro     0.840000\n",
       "Total      0.790055\n",
       "dtype: float64"
      ]
     },
     "execution_count": 4,
     "metadata": {},
     "output_type": "execute_result"
    }
   ],
   "source": [
    "#3\n",
    "# Se usó el método frecuentista\n",
    "import pandas as pd\n",
    "regiones = ['Norte','Noreste','Sur','Centro']\n",
    "valores_si = [148, 162, 296, 252]\n",
    "valores_no = [52, 54, 74, 48]\n",
    "datos = dict(Si = valores_si, No = valores_no)\n",
    "cuadro = pd.DataFrame(datos, index=regiones)\n",
    "cuadro = cuadro / (sum(cuadro.sum()))\n",
    "cuadro.loc[5] = sum(cuadro.Si), sum(cuadro.No)\n",
    "cuadro = cuadro.rename(index={5: 'Total'})\n",
    "cuadro = cuadro.assign(Total = cuadro.Si + cuadro.No)\n",
    " \n",
    "print (cuadro)\n",
    "\n",
    "# El director está satisfecho porque la probabilidad de que sí se us el cinturón es de 0.79\n",
    "# Se usa más en la región sur, con probabilidad 0.27'\n",
    "\n",
    "cuadro ['Si'] / cuadro ['Total']"
   ]
  },
  {
   "cell_type": "code",
   "execution_count": 2,
   "metadata": {},
   "outputs": [
    {
     "data": {
      "text/plain": [
       "0.5"
      ]
     },
     "execution_count": 2,
     "metadata": {},
     "output_type": "execute_result"
    }
   ],
   "source": [
    "#4\n",
    "def probabilidadNaipes(categoria):\n",
    "   cartas_totales = 52\n",
    "   cartas_color = 26\n",
    "   cartas_palo = 13\n",
    "   if categoria == 'rojo' or categoria == 'negro':\n",
    "      return cartas_color / cartas_totales\n",
    "   elif categoria in ('pica', 'trebol', 'corazon', 'diamante'):\n",
    "      return cartas_palo / cartas_totales\n",
    "\n",
    "probabilidadNaipes('rojo')\n",
    "#probabilidadNaipes('pica')"
   ]
  },
  {
   "cell_type": "code",
   "execution_count": 6,
   "metadata": {},
   "outputs": [
    {
     "data": {
      "text/plain": [
       "0.15384615384615385"
      ]
     },
     "execution_count": 6,
     "metadata": {},
     "output_type": "execute_result"
    }
   ],
   "source": [
    "#5\n",
    "4/52 + 4/52"
   ]
  },
  {
   "cell_type": "code",
   "execution_count": 7,
   "metadata": {},
   "outputs": [
    {
     "data": {
      "text/plain": [
       "0.03125"
      ]
     },
     "execution_count": 7,
     "metadata": {},
     "output_type": "execute_result"
    }
   ],
   "source": [
    "#6 son 32 equipos \n",
    "1/32\n",
    "# No es el modelo equiprobable"
   ]
  },
  {
   "cell_type": "code",
   "execution_count": 8,
   "metadata": {},
   "outputs": [
    {
     "name": "stdout",
     "output_type": "stream",
     "text": [
      "0.4 0.26 0.34\n"
     ]
    }
   ],
   "source": [
    "#7\n",
    "E1 = 20\n",
    "E2 = 13\n",
    "E3 = 17\n",
    "total = 50\n",
    "print(E1 / 50, E2 / 50, E3 / 50)"
   ]
  },
  {
   "cell_type": "code",
   "execution_count": 9,
   "metadata": {},
   "outputs": [
    {
     "name": "stdout",
     "output_type": "stream",
     "text": [
      "        M1   M2   M3         M11         M22         M33  Probabilidad\n",
      "0      0.2  0.5  0.6     Aprobar     Aprobar     Aprobar          0.06\n",
      "1      0.2  0.5  0.4     Aprobar     Aprobar  Desaprobar          0.04\n",
      "2      0.2  0.5  0.4     Aprobar  Desaprobar  Desaprobar          0.04\n",
      "3      0.2  0.5  0.6     Aprobar  Desaprobar     Aprobar          0.06\n",
      "4      0.8  0.5  0.6     Aprobar     Aprobar     Aprobar          0.24\n",
      "5      0.8  0.5  0.4     Aprobar     Aprobar  Desaprobar          0.16\n",
      "6      0.8  0.5  0.4  Desaprobar  Desaprobar  Desaprobar          0.16\n",
      "7      0.8  0.5  0.6  Desaprobar  Desaprobar     Aprobar          0.24\n",
      "Total  1.0  1.0  1.0         1.0         1.0         1.0          1.00\n",
      "Aprobar un modulo 0.44000000000000006\n",
      "Desaprobar todos los modulo 0.16000000000000003\n"
     ]
    }
   ],
   "source": [
    "# complementario 2\n",
    "import pandas as pd\n",
    "\n",
    "M11 = ['Aprobar', 'Aprobar', 'Aprobar', 'Aprobar','Aprobar', 'Aprobar', 'Desaprobar','Desaprobar']\n",
    "M22 = ['Aprobar', 'Aprobar','Desaprobar','Desaprobar','Aprobar', 'Aprobar','Desaprobar','Desaprobar']\n",
    "M33 = [ 'Aprobar', 'Desaprobar', 'Desaprobar','Aprobar','Aprobar','Desaprobar','Desaprobar', 'Aprobar']\n",
    "M1 = [0.2, 0.2, 0.2, 0.2, 0.8, 0.8, 0.8, 0.8]\n",
    "M2 = [0.5, 0.5, 0.5, 0.5, 0.5, 0.5, 0.5, 0.5]\n",
    "M3 = [0.6, 0.4, 0.4, 0.6, 0.6, 0.4, 0.4, 0.6]\n",
    "\n",
    "data = [{'M1': M1[i],'M2': M2[i],'M3': M3[i],'M11': M11[i],'M22': M22[i],'M33': M33[i],'Probabilidad': M1[i]* M2[i]* M3[i]}\n",
    "        for i in range(8)]\n",
    "cuadro= pd.DataFrame(data)\n",
    "\n",
    "cuadro.loc['Total'] = sum(cuadro.Probabilidad)\n",
    "cuadro = cuadro.rename(index={9: 'Total'})\n",
    "\n",
    "\n",
    "cuadro = cuadro.rename(index={8: 'Total'})\n",
    "print (cuadro) \n",
    "\n",
    "print (\"Aprobar un modulo\",  cuadro.loc[2, 'Probabilidad'] + cuadro.loc[5, 'Probabilidad']+ cuadro.loc[7, 'Probabilidad'] )\n",
    "print (\"Desaprobar todos los modulo\",  cuadro.loc[6, 'Probabilidad'] )\n",
    "\n",
    "    \n"
   ]
  },
  {
   "cell_type": "code",
   "execution_count": 10,
   "metadata": {},
   "outputs": [
    {
     "name": "stdout",
     "output_type": "stream",
     "text": [
      "       Cliente1  Cliente2  Num1  Num2 Probabilidad\n",
      "0      Efectivo  Efectivo   2/5   2/5         4/25\n",
      "1      Efectivo   Credito   2/5  7/15        14/75\n",
      "2      Efectivo    Debito   2/5  2/15         4/75\n",
      "3       Credito  Efectivo  7/15   2/5        14/75\n",
      "4       Credito   Credito  7/15  7/15       49/225\n",
      "5       Credito    Debito  7/15  2/15       14/225\n",
      "6        Debito  Efectivo  2/15   2/5         4/75\n",
      "7        Debito   Credito  2/15  7/15       14/225\n",
      "8        Debito    Debito  2/15  2/15        4/225\n",
      "Total         1         1     1     1            1\n",
      "Primero en Efectivo y segundo con credito 14/75\n",
      "Los dos en efectivo 4/25\n"
     ]
    }
   ],
   "source": [
    "# complementario 1\n",
    "import pandas as pd\n",
    "from fractions import Fraction\n",
    "\n",
    "efec= Fraction(6, 15)\n",
    "cred= Fraction(7, 15)\n",
    "debi= Fraction(2, 15)\n",
    "\n",
    "\n",
    "C11 = ['Efectivo', 'Efectivo', 'Efectivo', 'Credito','Credito', 'Credito', 'Debito','Debito','Debito']\n",
    "C22 = ['Efectivo', 'Credito','Debito','Efectivo','Credito', 'Debito','Efectivo','Credito', 'Debito']\n",
    "\n",
    "C1 = [efec, efec, efec, cred, cred, cred, debi, debi, debi]\n",
    "C2 = [efec, cred, debi, efec, cred, debi, efec, cred, debi]\n",
    "\n",
    "\n",
    "data = [{'Cliente1': C11[i],'Cliente2': C22[i],'Num1': C1[i],'Num2': C2[i],'Probabilidad': C1[i]* C2[i]}\n",
    "        for i in range(9)]\n",
    "cuadro= pd.DataFrame(data)\n",
    "\n",
    "cuadro.loc['Total'] = sum(cuadro.Probabilidad)\n",
    "cuadro = cuadro.rename(index={9: 'Total'})\n",
    "\n",
    "\n",
    "cuadro = cuadro.rename(index={9: 'Total'})\n",
    "print (cuadro) \n",
    "\n",
    "print (\"Primero en Efectivo y segundo con credito\",  cuadro.loc[1, 'Probabilidad'] )\n",
    "print (\"Los dos en efectivo\",  cuadro.loc[0, 'Probabilidad'] )\n"
   ]
  }
 ],
 "metadata": {
  "kernelspec": {
   "display_name": "Python 3",
   "language": "python",
   "name": "python3"
  },
  "language_info": {
   "codemirror_mode": {
    "name": "ipython",
    "version": 3
   },
   "file_extension": ".py",
   "mimetype": "text/x-python",
   "name": "python",
   "nbconvert_exporter": "python",
   "pygments_lexer": "ipython3",
   "version": "3.11.2"
  },
  "orig_nbformat": 4,
  "vscode": {
   "interpreter": {
    "hash": "69117183018b72484a6c6d0cbe06a1846585933f57820d0849135136a27bb87b"
   }
  }
 },
 "nbformat": 4,
 "nbformat_minor": 2
}
