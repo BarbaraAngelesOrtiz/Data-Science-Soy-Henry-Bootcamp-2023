{
 "cells": [
  {
   "cell_type": "markdown",
   "id": "c0be2e8c-33f2-48a0-a315-23e5e2e854a4",
   "metadata": {},
   "source": [
    "1. Lanza una moneda al aire 10 veces, ¿cuantos resultados posibles forman parte del espacio muestral?."
   ]
  },
  {
   "cell_type": "code",
   "execution_count": 3,
   "id": "7184eba8-b54d-4d06-8b1f-721f38f43023",
   "metadata": {},
   "outputs": [],
   "source": [
    "def espacio_muestral_moneda(tiros):\n",
    "    return 2**tiros"
   ]
  },
  {
   "cell_type": "code",
   "execution_count": 4,
   "id": "4dbac7c6-96d1-4ac3-9941-5d5bc47fd0de",
   "metadata": {},
   "outputs": [
    {
     "data": {
      "text/plain": [
       "1024"
      ]
     },
     "execution_count": 4,
     "metadata": {},
     "output_type": "execute_result"
    }
   ],
   "source": [
    "espacio_muestral_moneda(10)"
   ]
  },
  {
   "cell_type": "markdown",
   "id": "62d13345-3f94-4db6-86a1-d4c875363059",
   "metadata": {},
   "source": [
    "2. En un aeropuerto se tiene a 10 pasajeros esperando en la sala de preembarque, la polícia debe controlar a 3 de ellos. ¿Cuantas combinaciones posibles se pueden obtener?."
   ]
  },
  {
   "cell_type": "code",
   "execution_count": 6,
   "id": "1fa25582-4d28-4789-a9df-bdcff4bead8c",
   "metadata": {},
   "outputs": [
    {
     "name": "stdout",
     "output_type": "stream",
     "text": [
      "720\n"
     ]
    }
   ],
   "source": [
    "#permutación\n",
    "\n",
    "print(10*9*8)"
   ]
  },
  {
   "cell_type": "code",
   "execution_count": 8,
   "id": "190b1b12-cfda-4e06-9cf2-8ab61db8b5b7",
   "metadata": {},
   "outputs": [
    {
     "name": "stdout",
     "output_type": "stream",
     "text": [
      "120.0\n"
     ]
    }
   ],
   "source": [
    "#combinatoria\n",
    "print(10*9*8/(3*2*1))"
   ]
  },
  {
   "cell_type": "code",
   "execution_count": 9,
   "id": "b9ed20a5-818b-44c1-bc1f-8bd5fa22a558",
   "metadata": {},
   "outputs": [],
   "source": [
    "import numpy as np"
   ]
  },
  {
   "cell_type": "code",
   "execution_count": 20,
   "id": "b0478629-226a-4380-9fe7-e29ea5762b93",
   "metadata": {},
   "outputs": [],
   "source": [
    "#permutación formula\n",
    "def permutacion(N,n):\n",
    "    return np.math.factorial(N)/(np.math.factorial(n)*np.math.factorial(N-n))"
   ]
  },
  {
   "cell_type": "code",
   "execution_count": 21,
   "id": "8d15287a-c078-4768-8cd5-8b008d2439b0",
   "metadata": {},
   "outputs": [
    {
     "data": {
      "text/plain": [
       "120.0"
      ]
     },
     "execution_count": 21,
     "metadata": {},
     "output_type": "execute_result"
    }
   ],
   "source": [
    "permutacion(10,3)"
   ]
  },
  {
   "cell_type": "code",
   "execution_count": 18,
   "id": "72915f13-500c-4553-bd7e-e95d73cab877",
   "metadata": {},
   "outputs": [],
   "source": [
    "def combinatoria(N,n):\n",
    "    return np.math.factorial(N)/np.math.factorial(N-n)"
   ]
  },
  {
   "cell_type": "code",
   "execution_count": 22,
   "id": "42c43089-7838-46bd-a91d-d83339934f7c",
   "metadata": {},
   "outputs": [
    {
     "data": {
      "text/plain": [
       "720.0"
      ]
     },
     "execution_count": 22,
     "metadata": {},
     "output_type": "execute_result"
    }
   ],
   "source": [
    "combinatoria(10,3)"
   ]
  },
  {
   "cell_type": "markdown",
   "id": "0274e88b-d4fd-463d-8951-9214ac6a3aa3",
   "metadata": {},
   "source": [
    "3. La Agencia Nacional de Seguridad Vial realizó una investigación para saber si los conductores de están usando sus cinturones de seguridad. Los datos muestrales fueron los siguientes:<br>\n",
    "Conductores que emplean el cinturón <br>\n",
    "\n",
    "![Ejercicio](../_src/assets/ejercicio3.PNG)\n",
    "\n",
    "- a) ¿Qué metodo cree que se utilizo para asignar probabilidades?."
   ]
  },
  {
   "cell_type": "code",
   "execution_count": 23,
   "id": "77a97c25-bd30-4ae5-9dc1-d1ba5bd1e956",
   "metadata": {},
   "outputs": [],
   "source": [
    "# método frecuentista"
   ]
  },
  {
   "cell_type": "markdown",
   "id": "0f126e92-e41d-4f37-af64-f40f2ba47a5d",
   "metadata": {},
   "source": [
    "- b) Construya un cuadro similar, pero con la asignación de probabilidades."
   ]
  },
  {
   "cell_type": "code",
   "execution_count": 39,
   "id": "2cbceadf-2d7c-4768-a18c-3e97c155918f",
   "metadata": {},
   "outputs": [],
   "source": [
    "import pandas as pd"
   ]
  },
  {
   "cell_type": "code",
   "execution_count": 40,
   "id": "23442637-b89a-433b-9d11-a51e5bdf6589",
   "metadata": {},
   "outputs": [],
   "source": [
    "diccionario = {\"region\": [\"norte\", \"noroeste\", \"sur\", \"centro\", \"total\"],\n",
    "              \"si\": [148, 162, 296, 252, 858], \"no\": [52, 54, 74, 48, 228]}"
   ]
  },
  {
   "cell_type": "code",
   "execution_count": 51,
   "id": "11b26ddd-6d8a-4567-94c9-d879173eb74a",
   "metadata": {},
   "outputs": [],
   "source": [
    "df = pd.DataFrame(diccionario)"
   ]
  },
  {
   "cell_type": "code",
   "execution_count": 52,
   "id": "d447e1be-9f87-4c25-b824-b27e14892bda",
   "metadata": {},
   "outputs": [
    {
     "data": {
      "text/html": [
       "<div>\n",
       "<style scoped>\n",
       "    .dataframe tbody tr th:only-of-type {\n",
       "        vertical-align: middle;\n",
       "    }\n",
       "\n",
       "    .dataframe tbody tr th {\n",
       "        vertical-align: top;\n",
       "    }\n",
       "\n",
       "    .dataframe thead th {\n",
       "        text-align: right;\n",
       "    }\n",
       "</style>\n",
       "<table border=\"1\" class=\"dataframe\">\n",
       "  <thead>\n",
       "    <tr style=\"text-align: right;\">\n",
       "      <th></th>\n",
       "      <th>region</th>\n",
       "      <th>si</th>\n",
       "      <th>no</th>\n",
       "    </tr>\n",
       "  </thead>\n",
       "  <tbody>\n",
       "    <tr>\n",
       "      <th>0</th>\n",
       "      <td>norte</td>\n",
       "      <td>148</td>\n",
       "      <td>52</td>\n",
       "    </tr>\n",
       "    <tr>\n",
       "      <th>1</th>\n",
       "      <td>noroeste</td>\n",
       "      <td>162</td>\n",
       "      <td>54</td>\n",
       "    </tr>\n",
       "    <tr>\n",
       "      <th>2</th>\n",
       "      <td>sur</td>\n",
       "      <td>296</td>\n",
       "      <td>74</td>\n",
       "    </tr>\n",
       "    <tr>\n",
       "      <th>3</th>\n",
       "      <td>centro</td>\n",
       "      <td>252</td>\n",
       "      <td>48</td>\n",
       "    </tr>\n",
       "    <tr>\n",
       "      <th>4</th>\n",
       "      <td>total</td>\n",
       "      <td>858</td>\n",
       "      <td>228</td>\n",
       "    </tr>\n",
       "  </tbody>\n",
       "</table>\n",
       "</div>"
      ],
      "text/plain": [
       "     region   si   no\n",
       "0     norte  148   52\n",
       "1  noroeste  162   54\n",
       "2       sur  296   74\n",
       "3    centro  252   48\n",
       "4     total  858  228"
      ]
     },
     "execution_count": 52,
     "metadata": {},
     "output_type": "execute_result"
    }
   ],
   "source": [
    "df"
   ]
  },
  {
   "cell_type": "code",
   "execution_count": 53,
   "id": "eb9a47b4-539e-45bc-856a-739ba4f7cbc7",
   "metadata": {},
   "outputs": [],
   "source": [
    "df[\"si\"] = df[\"si\"]/(858 + 228)"
   ]
  },
  {
   "cell_type": "code",
   "execution_count": 54,
   "id": "a02c8c54-df26-448c-a52a-dd0344942883",
   "metadata": {},
   "outputs": [],
   "source": [
    "df[\"no\"] = df[\"no\"]/(228 + 858)"
   ]
  },
  {
   "cell_type": "code",
   "execution_count": 55,
   "id": "c0a3e84b-44db-4de6-af62-95388400d38f",
   "metadata": {},
   "outputs": [
    {
     "data": {
      "text/html": [
       "<div>\n",
       "<style scoped>\n",
       "    .dataframe tbody tr th:only-of-type {\n",
       "        vertical-align: middle;\n",
       "    }\n",
       "\n",
       "    .dataframe tbody tr th {\n",
       "        vertical-align: top;\n",
       "    }\n",
       "\n",
       "    .dataframe thead th {\n",
       "        text-align: right;\n",
       "    }\n",
       "</style>\n",
       "<table border=\"1\" class=\"dataframe\">\n",
       "  <thead>\n",
       "    <tr style=\"text-align: right;\">\n",
       "      <th></th>\n",
       "      <th>region</th>\n",
       "      <th>si</th>\n",
       "      <th>no</th>\n",
       "    </tr>\n",
       "  </thead>\n",
       "  <tbody>\n",
       "    <tr>\n",
       "      <th>0</th>\n",
       "      <td>norte</td>\n",
       "      <td>0.136280</td>\n",
       "      <td>0.047882</td>\n",
       "    </tr>\n",
       "    <tr>\n",
       "      <th>1</th>\n",
       "      <td>noroeste</td>\n",
       "      <td>0.149171</td>\n",
       "      <td>0.049724</td>\n",
       "    </tr>\n",
       "    <tr>\n",
       "      <th>2</th>\n",
       "      <td>sur</td>\n",
       "      <td>0.272560</td>\n",
       "      <td>0.068140</td>\n",
       "    </tr>\n",
       "    <tr>\n",
       "      <th>3</th>\n",
       "      <td>centro</td>\n",
       "      <td>0.232044</td>\n",
       "      <td>0.044199</td>\n",
       "    </tr>\n",
       "    <tr>\n",
       "      <th>4</th>\n",
       "      <td>total</td>\n",
       "      <td>0.790055</td>\n",
       "      <td>0.209945</td>\n",
       "    </tr>\n",
       "  </tbody>\n",
       "</table>\n",
       "</div>"
      ],
      "text/plain": [
       "     region        si        no\n",
       "0     norte  0.136280  0.047882\n",
       "1  noroeste  0.149171  0.049724\n",
       "2       sur  0.272560  0.068140\n",
       "3    centro  0.232044  0.044199\n",
       "4     total  0.790055  0.209945"
      ]
     },
     "execution_count": 55,
     "metadata": {},
     "output_type": "execute_result"
    }
   ],
   "source": [
    "df"
   ]
  },
  {
   "cell_type": "markdown",
   "id": "1b8cd4de-694e-4beb-aab4-a6b6057cc099",
   "metadata": {},
   "source": [
    "- c) ¿Cuál sería el mejor método pára estimar la probabilidad de que en Estados Unidos un conductor lleve puesto el cinturón?."
   ]
  },
  {
   "cell_type": "code",
   "execution_count": 56,
   "id": "01bb803b-c520-49c5-85d6-14c6d7f35b3c",
   "metadata": {},
   "outputs": [
    {
     "data": {
      "text/plain": [
       "0.7900552486187845"
      ]
     },
     "execution_count": 56,
     "metadata": {},
     "output_type": "execute_result"
    }
   ],
   "source": [
    "df[\"si\"][4] "
   ]
  },
  {
   "cell_type": "markdown",
   "id": "2d6057b5-c39b-488b-b0d5-4fc0c1871134",
   "metadata": {
    "jupyter": {
     "source_hidden": true
    },
    "tags": []
   },
   "source": [
    "- d) Un año antes, la probabilidad en Argentina de que un conductor llevara puesto el cinturón era 0.75. El director de ANSV, se esperaba que la probabilidad llegara a 0.78. ¿Estará satisfecho con los resultados del estudio? (Utilizar tabla adjunta \n",
    "(![Ejercicio](../_src/assets/ejercicio3.PNG)"
   ]
  },
  {
   "cell_type": "markdown",
   "id": "6a103e88-2eec-431e-bf01-04a760e1762e",
   "metadata": {},
   "source": [
    "\n",
    "- e) ¿Cuál es la probabilidad de que se use el cinturón en las distintas regiones del país? ¿En qué región se usa más el cinturón?(Utilizar misma tabla que el ejercicio anterior)."
   ]
  },
  {
   "cell_type": "code",
   "execution_count": 57,
   "id": "0c5c95d0-0445-4142-a6d3-d13d6a118c3e",
   "metadata": {},
   "outputs": [],
   "source": [
    "df1 = pd.DataFrame(diccionario)"
   ]
  },
  {
   "cell_type": "code",
   "execution_count": 59,
   "id": "b109fe21-6ab4-44ee-92a5-38e5c4e4b9b4",
   "metadata": {},
   "outputs": [],
   "source": [
    "df1[\"total\"] = df1[\"si\"]  + df1[\"no\"]"
   ]
  },
  {
   "cell_type": "code",
   "execution_count": 61,
   "id": "564270ed-11f8-4645-bfd6-83d73ecf2a2a",
   "metadata": {},
   "outputs": [
    {
     "data": {
      "text/html": [
       "<div>\n",
       "<style scoped>\n",
       "    .dataframe tbody tr th:only-of-type {\n",
       "        vertical-align: middle;\n",
       "    }\n",
       "\n",
       "    .dataframe tbody tr th {\n",
       "        vertical-align: top;\n",
       "    }\n",
       "\n",
       "    .dataframe thead th {\n",
       "        text-align: right;\n",
       "    }\n",
       "</style>\n",
       "<table border=\"1\" class=\"dataframe\">\n",
       "  <thead>\n",
       "    <tr style=\"text-align: right;\">\n",
       "      <th></th>\n",
       "      <th>region</th>\n",
       "      <th>si</th>\n",
       "      <th>no</th>\n",
       "      <th>total</th>\n",
       "    </tr>\n",
       "  </thead>\n",
       "  <tbody>\n",
       "    <tr>\n",
       "      <th>0</th>\n",
       "      <td>norte</td>\n",
       "      <td>148</td>\n",
       "      <td>52</td>\n",
       "      <td>200</td>\n",
       "    </tr>\n",
       "    <tr>\n",
       "      <th>1</th>\n",
       "      <td>noroeste</td>\n",
       "      <td>162</td>\n",
       "      <td>54</td>\n",
       "      <td>216</td>\n",
       "    </tr>\n",
       "    <tr>\n",
       "      <th>2</th>\n",
       "      <td>sur</td>\n",
       "      <td>296</td>\n",
       "      <td>74</td>\n",
       "      <td>370</td>\n",
       "    </tr>\n",
       "    <tr>\n",
       "      <th>3</th>\n",
       "      <td>centro</td>\n",
       "      <td>252</td>\n",
       "      <td>48</td>\n",
       "      <td>300</td>\n",
       "    </tr>\n",
       "    <tr>\n",
       "      <th>4</th>\n",
       "      <td>total</td>\n",
       "      <td>858</td>\n",
       "      <td>228</td>\n",
       "      <td>1086</td>\n",
       "    </tr>\n",
       "  </tbody>\n",
       "</table>\n",
       "</div>"
      ],
      "text/plain": [
       "     region   si   no  total\n",
       "0     norte  148   52    200\n",
       "1  noroeste  162   54    216\n",
       "2       sur  296   74    370\n",
       "3    centro  252   48    300\n",
       "4     total  858  228   1086"
      ]
     },
     "execution_count": 61,
     "metadata": {},
     "output_type": "execute_result"
    }
   ],
   "source": [
    "df1"
   ]
  },
  {
   "cell_type": "code",
   "execution_count": 62,
   "id": "ac690ec6-9958-4ef1-a05e-bdfe145e9639",
   "metadata": {},
   "outputs": [],
   "source": [
    "df1[\"si\"] = df1[\"si\"]/df1[\"total\"]"
   ]
  },
  {
   "cell_type": "code",
   "execution_count": 63,
   "id": "d82d353d-8e7b-4b56-ab94-c89420487ea1",
   "metadata": {},
   "outputs": [],
   "source": [
    "df1[\"no\"] = df1[\"no\"]/df1[\"total\"]"
   ]
  },
  {
   "cell_type": "code",
   "execution_count": 64,
   "id": "803eefd5-02d7-474d-bc50-3e8ce2915e50",
   "metadata": {},
   "outputs": [
    {
     "data": {
      "text/html": [
       "<div>\n",
       "<style scoped>\n",
       "    .dataframe tbody tr th:only-of-type {\n",
       "        vertical-align: middle;\n",
       "    }\n",
       "\n",
       "    .dataframe tbody tr th {\n",
       "        vertical-align: top;\n",
       "    }\n",
       "\n",
       "    .dataframe thead th {\n",
       "        text-align: right;\n",
       "    }\n",
       "</style>\n",
       "<table border=\"1\" class=\"dataframe\">\n",
       "  <thead>\n",
       "    <tr style=\"text-align: right;\">\n",
       "      <th></th>\n",
       "      <th>region</th>\n",
       "      <th>si</th>\n",
       "      <th>no</th>\n",
       "      <th>total</th>\n",
       "    </tr>\n",
       "  </thead>\n",
       "  <tbody>\n",
       "    <tr>\n",
       "      <th>0</th>\n",
       "      <td>norte</td>\n",
       "      <td>0.740000</td>\n",
       "      <td>0.260000</td>\n",
       "      <td>200</td>\n",
       "    </tr>\n",
       "    <tr>\n",
       "      <th>1</th>\n",
       "      <td>noroeste</td>\n",
       "      <td>0.750000</td>\n",
       "      <td>0.250000</td>\n",
       "      <td>216</td>\n",
       "    </tr>\n",
       "    <tr>\n",
       "      <th>2</th>\n",
       "      <td>sur</td>\n",
       "      <td>0.800000</td>\n",
       "      <td>0.200000</td>\n",
       "      <td>370</td>\n",
       "    </tr>\n",
       "    <tr>\n",
       "      <th>3</th>\n",
       "      <td>centro</td>\n",
       "      <td>0.840000</td>\n",
       "      <td>0.160000</td>\n",
       "      <td>300</td>\n",
       "    </tr>\n",
       "    <tr>\n",
       "      <th>4</th>\n",
       "      <td>total</td>\n",
       "      <td>0.790055</td>\n",
       "      <td>0.209945</td>\n",
       "      <td>1086</td>\n",
       "    </tr>\n",
       "  </tbody>\n",
       "</table>\n",
       "</div>"
      ],
      "text/plain": [
       "     region        si        no  total\n",
       "0     norte  0.740000  0.260000    200\n",
       "1  noroeste  0.750000  0.250000    216\n",
       "2       sur  0.800000  0.200000    370\n",
       "3    centro  0.840000  0.160000    300\n",
       "4     total  0.790055  0.209945   1086"
      ]
     },
     "execution_count": 64,
     "metadata": {},
     "output_type": "execute_result"
    }
   ],
   "source": [
    "df1"
   ]
  },
  {
   "cell_type": "markdown",
   "id": "4394ee7c-10dd-42a5-ab38-59fcabaaaac0",
   "metadata": {},
   "source": [
    "4. Crear una funcion que permita calcular a probabilidad de los siguientes eventos en un baraja de 52 cartas.<br>\n",
    "- Obtener una carta roja.<br>\n",
    "- Obtener una carta negra.<br>\n",
    "- Obtener una pica.<br>\n",
    "- Obtener un trébol.<br>\n",
    "- Obtener un corazón.<br>\n",
    "- Obtener un diamante.<br>"
   ]
  },
  {
   "cell_type": "code",
   "execution_count": 71,
   "id": "c113d07d-ce4a-4e87-a690-084682482cc1",
   "metadata": {},
   "outputs": [],
   "source": [
    "def probabilidad_cartas(entrada):\n",
    "    total_cartas = 52\n",
    "    cartas_rojas = total_cartas/2\n",
    "    cartas_negras = total_cartas/2\n",
    "    pitrecodi = total_cartas/4\n",
    "    \n",
    "    if entrada in (\"negra\", \"roja\"):\n",
    "        probabilidad = cartas_rojas / total_cartas\n",
    "        return probabilidad\n",
    "    elif entrada in (\"trébol\", \"pica\", \"corazón\", \"diamante\"):\n",
    "        probabilidad = pitrecodi / total_cartas\n",
    "        return probabilidad\n",
    "    else:\n",
    "        print(\"No es posible calcular probabilidad, inténtelo de nuevo con otra consulta\")"
   ]
  },
  {
   "cell_type": "code",
   "execution_count": 74,
   "id": "4d0928c8-6b5e-42ff-9e14-4052231c96cb",
   "metadata": {},
   "outputs": [
    {
     "data": {
      "text/plain": [
       "0.25"
      ]
     },
     "execution_count": 74,
     "metadata": {},
     "output_type": "execute_result"
    }
   ],
   "source": [
    "probabilidad_cartas(\"trébol\")"
   ]
  },
  {
   "cell_type": "markdown",
   "id": "e2b15b07-da7d-4ae7-9045-39e55ef1dce8",
   "metadata": {},
   "source": [
    "5. La probabilidad de que salga un 7 o un 8 al seleccionar una carta de una baraja de las 52 cartas que contiene el mazo. <br>"
   ]
  },
  {
   "cell_type": "code",
   "execution_count": 83,
   "id": "50a7420e-5b1c-4413-97c9-835fc82e903b",
   "metadata": {},
   "outputs": [
    {
     "data": {
      "text/plain": [
       "0.15384615384615385"
      ]
     },
     "execution_count": 83,
     "metadata": {},
     "output_type": "execute_result"
    }
   ],
   "source": [
    "4/52 + 4/52"
   ]
  },
  {
   "cell_type": "markdown",
   "id": "ac02784e-4c52-4805-8a47-e26f0c2203e3",
   "metadata": {},
   "source": [
    "6. La probabilidad de tu país gane el mundial de fútbol.<br>"
   ]
  },
  {
   "cell_type": "code",
   "execution_count": 77,
   "id": "a7a05cbb-5aaa-4304-986d-d9d319bdffb1",
   "metadata": {},
   "outputs": [
    {
     "data": {
      "text/plain": [
       "3.125"
      ]
     },
     "execution_count": 77,
     "metadata": {},
     "output_type": "execute_result"
    }
   ],
   "source": [
    "1/32*100"
   ]
  },
  {
   "cell_type": "markdown",
   "id": "c7f05287-2721-4353-af45-5c4046af1222",
   "metadata": {},
   "source": [
    "7. Un experimento que tiene tres resultados es repetido 50 veces y se ve que E1 aparece 20 veces, E2 13 veces y E3 17 veces. Asigne probabilidades a los resultados.<br>"
   ]
  },
  {
   "cell_type": "code",
   "execution_count": 78,
   "id": "a8135390-9266-40a4-8934-f66f54f5dee1",
   "metadata": {},
   "outputs": [
    {
     "name": "stdout",
     "output_type": "stream",
     "text": [
      "0.4\n",
      "0.26\n",
      "0.34\n"
     ]
    }
   ],
   "source": [
    "total = 20 + 13 + 17\n",
    "print(20/total)\n",
    "print(13/total)\n",
    "print(17/total)"
   ]
  },
  {
   "cell_type": "markdown",
   "id": "66731a6e-4dc2-43b4-9b70-71eb2a45f0be",
   "metadata": {},
   "source": [
    "## Desafíos complementarios \n",
    "\n",
    "### Investiga e intenta resolver los siguientes ejercicios\n",
    "\n",
    "1. Si la probabilidad de que un cliente pague en efectivo (E) es 6/15, con tarjeta de crédito (TD) es 7/15 y con tarjeta de débito (TD) es 2/15. Hallar la probabilidad de que dos clientes sucesivos que pagan sus cuentas lo hagan:<br>"
   ]
  },
  {
   "cell_type": "code",
   "execution_count": null,
   "id": "0f30c1c4-fd97-44da-ba01-85c8534be844",
   "metadata": {},
   "outputs": [],
   "source": []
  },
  {
   "cell_type": "markdown",
   "id": "a00585b1-b765-4b1d-ad40-0545d7579d20",
   "metadata": {},
   "source": [
    " a) el primero en efectivo y el segundo con tarjeta de crédito.<br>\n",
    " b) Los dos clientes en efectivo<br>"
   ]
  },
  {
   "cell_type": "code",
   "execution_count": 79,
   "id": "553d2c54-f40b-4e0e-8f9d-380b80eacd6a",
   "metadata": {},
   "outputs": [
    {
     "data": {
      "text/plain": [
       "0.18666666666666668"
      ]
     },
     "execution_count": 79,
     "metadata": {},
     "output_type": "execute_result"
    }
   ],
   "source": [
    "(6/15)*(7/15)"
   ]
  },
  {
   "cell_type": "code",
   "execution_count": 81,
   "id": "af30ccc6-984e-4fbb-ba8b-134d51fe7f27",
   "metadata": {},
   "outputs": [
    {
     "data": {
      "text/plain": [
       "0.16000000000000003"
      ]
     },
     "execution_count": 81,
     "metadata": {},
     "output_type": "execute_result"
    }
   ],
   "source": [
    "(6/15)*(6/15)"
   ]
  },
  {
   "cell_type": "markdown",
   "id": "b7a3c272-8553-4d40-8381-82b9b7daf680",
   "metadata": {},
   "source": [
    "2. La probabilidad de que un Henry repruebe el M1 de 0.8, de que apruebe M2 es 0.5 y de que repruebe el M3 es de 0.4.<br>"
   ]
  },
  {
   "cell_type": "markdown",
   "id": "d5a111b0-caa4-49f2-96cf-dd813874e5b4",
   "metadata": {},
   "source": [
    " (Los eventos no interfieren entre si) <br>\n",
    "\n",
    "![Tabla](../_src/assets/probhenry.PNG)"
   ]
  },
  {
   "cell_type": "code",
   "execution_count": 82,
   "id": "f2052ded-85f1-4ddf-ab6c-223d7b80bdb8",
   "metadata": {},
   "outputs": [
    {
     "data": {
      "text/plain": [
       "0.16000000000000003"
      ]
     },
     "execution_count": 82,
     "metadata": {},
     "output_type": "execute_result"
    }
   ],
   "source": [
    "0.8*0.5*0.4"
   ]
  }
 ],
 "metadata": {
  "kernelspec": {
   "display_name": "Python 3 (ipykernel)",
   "language": "python",
   "name": "python3"
  },
  "language_info": {
   "codemirror_mode": {
    "name": "ipython",
    "version": 3
   },
   "file_extension": ".py",
   "mimetype": "text/x-python",
   "name": "python",
   "nbconvert_exporter": "python",
   "pygments_lexer": "ipython3",
   "version": "3.8.10"
  }
 },
 "nbformat": 4,
 "nbformat_minor": 5
}
