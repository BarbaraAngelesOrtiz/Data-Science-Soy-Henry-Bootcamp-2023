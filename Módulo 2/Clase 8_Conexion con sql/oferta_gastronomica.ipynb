{
 "cells": [
  {
   "cell_type": "code",
   "execution_count": 3,
   "metadata": {},
   "outputs": [],
   "source": [
    "import requests #pip install requests\n",
    "import pymysql #pip install pymysql\n",
    "from io import StringIO\n",
    "import csv\n",
    "\n",
    "bajada = requests.get('https://cdn.buenosaires.gob.ar/datosabiertos/datasets/ente-de-turismo/oferta-establecimientos-gastronomicos/oferta_gastronomica.csv')\n",
    "bajada.encoding = 'utf-8'\n",
    "bajada = bajada.text\n",
    "documento = csv.reader(StringIO(bajada))\n",
    "next(documento)\n",
    "locales = [(linea[3], linea[4], linea[13], linea[14], linea[15][7:]) for linea in documento]"
   ]
  },
  {
   "cell_type": "code",
   "execution_count": 8,
   "metadata": {},
   "outputs": [
    {
     "name": "stdout",
     "output_type": "stream",
     "text": [
      "(1, 'GUANTANAMERA', 'RESTAURANTE', 'MOREAU DE JUSTO, ALICIA AV. 2092', 'Puerto Madero', 1)\n",
      "(2, '1843 VINACOTECA', 'VINERIA', 'HUMBERTO 1º 1843', 'San Cristobal', 3)\n",
      "(3, '2080 EXPRESS', 'RESTAURANTE', 'JURAMENTO AV. 2080', 'Belgrano', 13)\n",
      "(4, '22', 'CAFE', 'MURGUIONDO 4188', 'Villa Lugano', 8)\n",
      "(5, '4 EN 2 I', 'RESTAURANTE', 'BORGES, JORGE LUIS 2095', 'Palermo', 14)\n",
      "(6, '4 X 4 CAFE', 'BAR', 'DEL LIBERTADOR AV. 3838', 'Palermo', 14)\n",
      "(7, '5TA AVENIDA', 'RESTAURANTE', 'SARMIENTO 814', 'San Nicolas', 1)\n",
      "(8, '5TA AVENIDA I', 'RESTAURANTE', 'SARMIENTO 381', 'San Nicolas', 1)\n",
      "(9, '5TA ZONA', '', 'MURILLO 1049', 'Villa Crespo', 15)\n",
      "(10, '650', 'RESTAURANTE', 'SAN MARTIN 650', 'San Nicolas', 1)\n"
     ]
    }
   ],
   "source": [
    "conexion = pymysql.connect(\n",
    "   host='localhost',\n",
    "   database='test',\n",
    "   user='root',\n",
    "   password='Pepper2023#'\n",
    ")\n",
    "cursor = conexion.cursor()\n",
    "cursor.execute(\"TRUNCATE TABLE oferta_gastronomica\")\n",
    "query = 'INSERT INTO oferta_gastronomica (nombre, categoria, direccion, barrio, comuna) VALUES(%s,%s,%s,%s,%s)'\n",
    "cursor.executemany(query, locales)\n",
    "conexion.commit()\n",
    "cursor.execute(\"SELECT * FROM oferta_gastronomica LIMIT 10\")\n",
    "for registro in cursor:\n",
    "   print(registro)\n",
    "conexion.close()"
   ]
  }
 ],
 "metadata": {
  "kernelspec": {
   "display_name": "Python 3.9.7 64-bit",
   "language": "python",
   "name": "python3"
  },
  "language_info": {
   "codemirror_mode": {
    "name": "ipython",
    "version": 3
   },
   "file_extension": ".py",
   "mimetype": "text/x-python",
   "name": "python",
   "nbconvert_exporter": "python",
   "pygments_lexer": "ipython3",
   "version": "3.11.2"
  },
  "orig_nbformat": 4,
  "vscode": {
   "interpreter": {
    "hash": "11938c6bc6919ae2720b4d5011047913343b08a43b18698fd82dedb0d4417594"
   }
  }
 },
 "nbformat": 4,
 "nbformat_minor": 2
}
