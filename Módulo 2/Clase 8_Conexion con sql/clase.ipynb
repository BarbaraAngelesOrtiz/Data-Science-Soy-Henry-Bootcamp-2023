{
 "cells": [
  {
   "cell_type": "markdown",
   "id": "b93e27cb-a5ec-4a4b-bf8a-f9f987dfd0c5",
   "metadata": {},
   "source": [
    "https://datosabiertos.bogota.gov.co/dataset/1727a802-538d-4f05-8f96-afe4196397a6/resource/53e4692a-2b82-46c9-9025-ad159a5a11b8/download/cicloparqueaderos-del-sistema-transmilenio-agosto-2020.csv"
   ]
  },
  {
   "cell_type": "code",
   "execution_count": 1,
   "id": "34c26072-2e6e-417c-83cc-9bb260d3c255",
   "metadata": {},
   "outputs": [],
   "source": [
    "link = \"https://datosabiertos.bogota.gov.co/dataset/1727a802-538d-4f05-8f96-afe4196397a6/resource/53e4692a-2b82-46c9-9025-ad159a5a11b8/download/cicloparqueaderos-del-sistema-transmilenio-agosto-2020.csv\""
   ]
  },
  {
   "cell_type": "code",
   "execution_count": 2,
   "id": "2c40173f-5103-4053-9ed9-5cb54c154fd4",
   "metadata": {},
   "outputs": [
    {
     "name": "stdout",
     "output_type": "stream",
     "text": [
      "https://datosabiertos.bogota.gov.co/dataset/1727a802-538d-4f05-8f96-afe4196397a6/resource/53e4692a-2b82-46c9-9025-ad159a5a11b8/download/cicloparqueaderos-del-sistema-transmilenio-agosto-2020.csv\n"
     ]
    }
   ],
   "source": [
    "print(link)"
   ]
  },
  {
   "cell_type": "code",
   "execution_count": 8,
   "id": "b2712d7a-f1d4-495f-b5df-f2751e4a78e2",
   "metadata": {},
   "outputs": [],
   "source": [
    "import requests\n",
    "import pymysql\n",
    "from io import StringIO\n",
    "import csv"
   ]
  },
  {
   "cell_type": "code",
   "execution_count": 12,
   "id": "dde8700d-8d2a-4253-80a7-6c756d798199",
   "metadata": {},
   "outputs": [],
   "source": [
    "dato = requests.get(link)"
   ]
  },
  {
   "cell_type": "code",
   "execution_count": 14,
   "id": "994fec34-9b28-4199-9f14-6cf226cbc738",
   "metadata": {},
   "outputs": [
    {
     "data": {
      "text/plain": [
       "'Cicloparqueadero;Tipo de infraestructura;Troncal de TransMilenio;Promedio Hábil;Promedio Sábado;Promedio Domingos y festivos;Cupos;;;;\\r\\nSan Mateo;Estación;NQS Sur;764;610;334;1.449;;;;\\r\\nPortal Américas;Portal;Américas;433;340;167;785;;;;\\r\\nPortal Sur;Portal;NQS Sur;209;163;95;409;;;;\\r\\nPortal Suba;Portal;Suba;176;146;88;710;;;;\\r\\nPortal Eldorado;Portal;Calle 26;124;102;57;532;;;;\\r\\nPortal 80;Portal;Calle 26;141;118;56;353;;;;\\r\\nPortal Tunal;Portal;Caracas Sur;21;19;11;437;;;;\\r\\nGeneral Santander;Estación;NQS Sur;41;36;18;48;;;;\\r\\nBanderas;Estación;Américas;34;29;15;101;;;;\\r\\nAv. Rojas;Estación;Calle 26;13;11;6;104;;;;\\r\\nPortal 20 de Julio;Portal;Carrera 10;10;6;4;216;;;;\\r\\nQuinta Paredes;Estación;Calle 26;4;4;5;48;;;;\\r\\nPradera;Estación;Américas;3;4;2;32;;;;\\r\\nMarsella;Estación;Américas;2;2;2;32;;;;\\r\\nAv. Américas - Av. Boyacá;Estación;Américas;2;2;2;32;;;;\\r\\nTransversal 86;Estación;Américas;2;1;2;84;;;;\\r\\nBicentenario;Estación;Carrera 10;5;4;5;116;;;;\\r\\nAv. 1 de Mayo;Estación;Carrera 10;10;15;5;228;;;;\\r\\n;;;;;;;;;;\\r\\n'"
      ]
     },
     "execution_count": 14,
     "metadata": {},
     "output_type": "execute_result"
    }
   ],
   "source": [
    "dato.text"
   ]
  },
  {
   "cell_type": "code",
   "execution_count": 32,
   "id": "634cc75e-864a-45de-802b-2e2001568b4b",
   "metadata": {},
   "outputs": [],
   "source": [
    "nueva_tabla = StringIO(dato.text)"
   ]
  },
  {
   "cell_type": "code",
   "execution_count": 21,
   "id": "4199e976-538f-4580-9a7a-34d75070e752",
   "metadata": {},
   "outputs": [
    {
     "data": {
      "text/plain": [
       "'Cicloparqueadero;Tipo de infraestructura;Troncal de TransMilenio;Promedio Hábil;Promedio Sábado;Promedio Domingos y festivos;Cupos;;;;\\r\\n'"
      ]
     },
     "execution_count": 21,
     "metadata": {},
     "output_type": "execute_result"
    }
   ],
   "source": [
    "next(nueva_tabla)"
   ]
  },
  {
   "cell_type": "code",
   "execution_count": 33,
   "id": "6630f3dd-b979-46f6-b99e-b25f862865e6",
   "metadata": {},
   "outputs": [],
   "source": [
    "doc = csv.reader(nueva_tabla, delimiter=\";\")"
   ]
  },
  {
   "cell_type": "code",
   "execution_count": 34,
   "id": "d1c05522-af88-4cdd-bda9-a7e3d805299f",
   "metadata": {},
   "outputs": [
    {
     "data": {
      "text/plain": [
       "['Cicloparqueadero',\n",
       " 'Tipo de infraestructura',\n",
       " 'Troncal de TransMilenio',\n",
       " 'Promedio Hábil',\n",
       " 'Promedio Sábado',\n",
       " 'Promedio Domingos y festivos',\n",
       " 'Cupos',\n",
       " '',\n",
       " '',\n",
       " '',\n",
       " '']"
      ]
     },
     "execution_count": 34,
     "metadata": {},
     "output_type": "execute_result"
    }
   ],
   "source": [
    "next(doc)"
   ]
  },
  {
   "cell_type": "code",
   "execution_count": null,
   "id": "c6366ce9-97f0-4adc-8bb5-e837ba7b9fe4",
   "metadata": {},
   "outputs": [],
   "source": [
    "datos = []\n",
    "for i in doc:\n",
    "    datos.append((i[0], i[3], i[4], i[5], i[6]))"
   ]
  },
  {
   "cell_type": "code",
   "execution_count": null,
   "id": "b1f216fc-10be-4225-99c6-aa870e56df0e",
   "metadata": {},
   "outputs": [],
   "source": [
    "# métodos de compresion de listas"
   ]
  },
  {
   "cell_type": "code",
   "execution_count": 35,
   "id": "00b412c1-2378-4ac6-95d9-857ff32d911c",
   "metadata": {},
   "outputs": [],
   "source": [
    "datos = [(i[0], i[3], i[4], i[5], i[6]) for i in doc]    "
   ]
  },
  {
   "cell_type": "code",
   "execution_count": 36,
   "id": "1420c4c2-bc74-4699-9eb9-38c9364402e0",
   "metadata": {},
   "outputs": [
    {
     "data": {
      "text/plain": [
       "[('San Mateo', '764', '610', '334', '1.449'),\n",
       " ('Portal Américas', '433', '340', '167', '785'),\n",
       " ('Portal Sur', '209', '163', '95', '409'),\n",
       " ('Portal Suba', '176', '146', '88', '710'),\n",
       " ('Portal Eldorado', '124', '102', '57', '532'),\n",
       " ('Portal 80', '141', '118', '56', '353'),\n",
       " ('Portal Tunal', '21', '19', '11', '437'),\n",
       " ('General Santander', '41', '36', '18', '48'),\n",
       " ('Banderas', '34', '29', '15', '101'),\n",
       " ('Av. Rojas', '13', '11', '6', '104'),\n",
       " ('Portal 20 de Julio', '10', '6', '4', '216'),\n",
       " ('Quinta Paredes', '4', '4', '5', '48'),\n",
       " ('Pradera', '3', '4', '2', '32'),\n",
       " ('Marsella', '2', '2', '2', '32'),\n",
       " ('Av. Américas - Av. Boyacá', '2', '2', '2', '32'),\n",
       " ('Transversal 86', '2', '1', '2', '84'),\n",
       " ('Bicentenario', '5', '4', '5', '116'),\n",
       " ('Av. 1 de Mayo', '10', '15', '5', '228'),\n",
       " ('', '', '', '', '')]"
      ]
     },
     "execution_count": 36,
     "metadata": {},
     "output_type": "execute_result"
    }
   ],
   "source": [
    "datos"
   ]
  },
  {
   "cell_type": "code",
   "execution_count": 37,
   "id": "a6176cc0-8052-43d5-bde2-22320cb4f5cd",
   "metadata": {},
   "outputs": [],
   "source": [
    "del datos[-1]"
   ]
  },
  {
   "cell_type": "code",
   "execution_count": 38,
   "id": "5b1e3a85-d518-49d2-bfb3-1730d7b7e0fd",
   "metadata": {},
   "outputs": [
    {
     "data": {
      "text/plain": [
       "[('San Mateo', '764', '610', '334', '1.449'),\n",
       " ('Portal Américas', '433', '340', '167', '785'),\n",
       " ('Portal Sur', '209', '163', '95', '409'),\n",
       " ('Portal Suba', '176', '146', '88', '710'),\n",
       " ('Portal Eldorado', '124', '102', '57', '532'),\n",
       " ('Portal 80', '141', '118', '56', '353'),\n",
       " ('Portal Tunal', '21', '19', '11', '437'),\n",
       " ('General Santander', '41', '36', '18', '48'),\n",
       " ('Banderas', '34', '29', '15', '101'),\n",
       " ('Av. Rojas', '13', '11', '6', '104'),\n",
       " ('Portal 20 de Julio', '10', '6', '4', '216'),\n",
       " ('Quinta Paredes', '4', '4', '5', '48'),\n",
       " ('Pradera', '3', '4', '2', '32'),\n",
       " ('Marsella', '2', '2', '2', '32'),\n",
       " ('Av. Américas - Av. Boyacá', '2', '2', '2', '32'),\n",
       " ('Transversal 86', '2', '1', '2', '84'),\n",
       " ('Bicentenario', '5', '4', '5', '116'),\n",
       " ('Av. 1 de Mayo', '10', '15', '5', '228')]"
      ]
     },
     "execution_count": 38,
     "metadata": {},
     "output_type": "execute_result"
    }
   ],
   "source": [
    "datos"
   ]
  },
  {
   "cell_type": "code",
   "execution_count": 70,
   "id": "a18c2931-1e1b-4020-9ee3-dee1cf4b4574",
   "metadata": {},
   "outputs": [],
   "source": [
    "datos[0] = tuple(['San Mateo', '764', '610', '334', '1449'])"
   ]
  },
  {
   "cell_type": "code",
   "execution_count": 71,
   "id": "7fba0993-50ea-4416-ad4b-fc94b288fd3c",
   "metadata": {},
   "outputs": [
    {
     "data": {
      "text/plain": [
       "[('San Mateo', '764', '610', '334', '1449'),\n",
       " ('Portal Américas', '433', '340', '167', '785'),\n",
       " ('Portal Sur', '209', '163', '95', '409'),\n",
       " ('Portal Suba', '176', '146', '88', '710'),\n",
       " ('Portal Eldorado', '124', '102', '57', '532'),\n",
       " ('Portal 80', '141', '118', '56', '353'),\n",
       " ('Portal Tunal', '21', '19', '11', '437'),\n",
       " ('General Santander', '41', '36', '18', '48'),\n",
       " ('Banderas', '34', '29', '15', '101'),\n",
       " ('Av. Rojas', '13', '11', '6', '104'),\n",
       " ('Portal 20 de Julio', '10', '6', '4', '216'),\n",
       " ('Quinta Paredes', '4', '4', '5', '48'),\n",
       " ('Pradera', '3', '4', '2', '32'),\n",
       " ('Marsella', '2', '2', '2', '32'),\n",
       " ('Av. Américas - Av. Boyacá', '2', '2', '2', '32'),\n",
       " ('Transversal 86', '2', '1', '2', '84'),\n",
       " ('Bicentenario', '5', '4', '5', '116'),\n",
       " ('Av. 1 de Mayo', '10', '15', '5', '228')]"
      ]
     },
     "execution_count": 71,
     "metadata": {},
     "output_type": "execute_result"
    }
   ],
   "source": [
    "datos"
   ]
  },
  {
   "cell_type": "code",
   "execution_count": 39,
   "id": "e3155fab-425b-4cc3-95a0-37254773a63b",
   "metadata": {},
   "outputs": [],
   "source": [
    "conexion = pymysql.connect(host = 'localhost', user = 'root', password = 'password', database = \"datos_cicloruta\")"
   ]
  },
  {
   "cell_type": "code",
   "execution_count": 40,
   "id": "0c1b9253-752d-41c9-8528-dddcc3f4d9ba",
   "metadata": {},
   "outputs": [],
   "source": [
    "cursor = conexion.cursor()"
   ]
  },
  {
   "cell_type": "code",
   "execution_count": 54,
   "id": "e54bf46b-adbf-44b7-8a8a-809e314550a0",
   "metadata": {},
   "outputs": [
    {
     "data": {
      "text/plain": [
       "5"
      ]
     },
     "execution_count": 54,
     "metadata": {},
     "output_type": "execute_result"
    }
   ],
   "source": [
    "cursor.execute(\"desc cicloruta\")"
   ]
  },
  {
   "cell_type": "code",
   "execution_count": 52,
   "id": "65f138b9-dd91-43a1-aa45-f2ba73741219",
   "metadata": {},
   "outputs": [],
   "source": [
    "cursor.fetchone()"
   ]
  },
  {
   "cell_type": "code",
   "execution_count": 55,
   "id": "381e78ef-dfb8-40e5-a978-d613130b6cee",
   "metadata": {},
   "outputs": [
    {
     "data": {
      "text/plain": [
       "(('nombre_estacion', 'varchar(30)', 'NO', 'PRI', None, ''),\n",
       " ('promedio_habil', 'int', 'YES', '', None, ''),\n",
       " ('promedio_sabado', 'int', 'YES', '', None, ''))"
      ]
     },
     "execution_count": 55,
     "metadata": {},
     "output_type": "execute_result"
    }
   ],
   "source": [
    "cursor.fetchmany(size=3)"
   ]
  },
  {
   "cell_type": "code",
   "execution_count": 56,
   "id": "5d363770-ae9c-4666-b94a-6ea551e6a996",
   "metadata": {},
   "outputs": [
    {
     "data": {
      "text/plain": [
       "(('promedio_domingo', 'int', 'YES', '', None, ''),\n",
       " ('cupo', 'int', 'YES', '', None, ''))"
      ]
     },
     "execution_count": 56,
     "metadata": {},
     "output_type": "execute_result"
    }
   ],
   "source": [
    "cursor.fetchall()"
   ]
  },
  {
   "cell_type": "code",
   "execution_count": 58,
   "id": "221a0c09-0f44-4caa-9fd5-ed6ea9bf5031",
   "metadata": {},
   "outputs": [],
   "source": [
    "query =  \"\"\"create table cicloruta (\n",
    "\tnombre_estacion varchar(30),\n",
    "    promedio_habil int,\n",
    "    promedio_sabado int,\n",
    "    promedio_domingo int,\n",
    "    cupo int,\n",
    "    primary key (nombre_estacion) \n",
    ")\"\"\""
   ]
  },
  {
   "cell_type": "code",
   "execution_count": 59,
   "id": "e3f1443e-3797-4eb2-a7bb-29d82e9a4ad2",
   "metadata": {},
   "outputs": [
    {
     "data": {
      "text/plain": [
       "0"
      ]
     },
     "execution_count": 59,
     "metadata": {},
     "output_type": "execute_result"
    }
   ],
   "source": [
    "cursor.execute(query)"
   ]
  },
  {
   "cell_type": "code",
   "execution_count": 60,
   "id": "83fb417e-742f-4b87-8750-f9c6a3ca5234",
   "metadata": {},
   "outputs": [
    {
     "data": {
      "text/plain": [
       "0"
      ]
     },
     "execution_count": 60,
     "metadata": {},
     "output_type": "execute_result"
    }
   ],
   "source": [
    "cursor.execute(\"select * from cicloruta\")"
   ]
  },
  {
   "cell_type": "code",
   "execution_count": 72,
   "id": "2cdfb4ce-b682-491e-9535-ee52326cb560",
   "metadata": {},
   "outputs": [],
   "source": [
    "query = \"insert into cicloruta (nombre_estacion, promedio_habil, promedio_sabado, promedio_domingo, cupo) values  (%s, %s, %s, %s, %s)\""
   ]
  },
  {
   "cell_type": "code",
   "execution_count": 73,
   "id": "e50e8270-156e-4831-9d3b-d90488ee81e4",
   "metadata": {},
   "outputs": [
    {
     "data": {
      "text/plain": [
       "18"
      ]
     },
     "execution_count": 73,
     "metadata": {},
     "output_type": "execute_result"
    }
   ],
   "source": [
    "cursor.executemany(query,datos)"
   ]
  },
  {
   "cell_type": "code",
   "execution_count": 75,
   "id": "c09089ff-59df-4abf-9f1c-1e6b25fc58d5",
   "metadata": {},
   "outputs": [],
   "source": [
    "conexion.commit()"
   ]
  },
  {
   "cell_type": "code",
   "execution_count": 76,
   "id": "adc39fc4-9081-4511-ae27-9a744506deb9",
   "metadata": {},
   "outputs": [
    {
     "data": {
      "text/plain": [
       "18"
      ]
     },
     "execution_count": 76,
     "metadata": {},
     "output_type": "execute_result"
    }
   ],
   "source": [
    "cursor.execute(\"select * from cicloruta\")"
   ]
  },
  {
   "cell_type": "code",
   "execution_count": 77,
   "id": "ce1f9b31-df71-4e11-a262-8272cba6e446",
   "metadata": {},
   "outputs": [
    {
     "data": {
      "text/plain": [
       "(('Av. 1 de Mayo', 10, 15, 5, 228),\n",
       " ('Av. Américas - Av. Boyacá', 2, 2, 2, 32),\n",
       " ('Av. Rojas', 13, 11, 6, 104),\n",
       " ('Banderas', 34, 29, 15, 101),\n",
       " ('Bicentenario', 5, 4, 5, 116),\n",
       " ('General Santander', 41, 36, 18, 48),\n",
       " ('Marsella', 2, 2, 2, 32),\n",
       " ('Portal 20 de Julio', 10, 6, 4, 216),\n",
       " ('Portal 80', 141, 118, 56, 353),\n",
       " ('Portal Américas', 433, 340, 167, 785),\n",
       " ('Portal Eldorado', 124, 102, 57, 532),\n",
       " ('Portal Suba', 176, 146, 88, 710),\n",
       " ('Portal Sur', 209, 163, 95, 409),\n",
       " ('Portal Tunal', 21, 19, 11, 437),\n",
       " ('Pradera', 3, 4, 2, 32),\n",
       " ('Quinta Paredes', 4, 4, 5, 48),\n",
       " ('San Mateo', 764, 610, 334, 1449),\n",
       " ('Transversal 86', 2, 1, 2, 84))"
      ]
     },
     "execution_count": 77,
     "metadata": {},
     "output_type": "execute_result"
    }
   ],
   "source": [
    "cursor.fetchall()"
   ]
  },
  {
   "cell_type": "code",
   "execution_count": 84,
   "id": "97a929be-0e56-4cb2-9a1f-816c8db26499",
   "metadata": {},
   "outputs": [
    {
     "data": {
      "text/plain": [
       "(('Av. Rojas', 13, 11, 6, 104), ('Banderas', 34, 29, 15, 101))"
      ]
     },
     "execution_count": 84,
     "metadata": {},
     "output_type": "execute_result"
    }
   ],
   "source": [
    "cursor.execute(\"select * from cicloruta where promedio_habil > 10 limit 2\")\n",
    "cursor.fetchall()"
   ]
  },
  {
   "cell_type": "code",
   "execution_count": 81,
   "id": "cf7b3efd-88aa-473d-801c-4f1ab22d54ce",
   "metadata": {},
   "outputs": [
    {
     "data": {
      "text/plain": [
       "(('Av. Rojas', 13, 11, 6, 104), ('Banderas', 34, 29, 15, 101))"
      ]
     },
     "execution_count": 81,
     "metadata": {},
     "output_type": "execute_result"
    }
   ],
   "source": []
  },
  {
   "cell_type": "code",
   "execution_count": null,
   "id": "a09b2c12-a079-41c4-ac44-b532d8f28920",
   "metadata": {},
   "outputs": [],
   "source": [
    "# bases datos para analisis bases de datos para transacciones"
   ]
  },
  {
   "cell_type": "code",
   "execution_count": 85,
   "id": "2dbba5a8-49ae-4206-863a-a330a7a9aabc",
   "metadata": {},
   "outputs": [
    {
     "data": {
      "text/plain": [
       "0.39"
      ]
     },
     "execution_count": 85,
     "metadata": {},
     "output_type": "execute_result"
    }
   ],
   "source": [
    "round(0.38999999999, 2)"
   ]
  }
 ],
 "metadata": {
  "kernelspec": {
   "display_name": "Python 3 (ipykernel)",
   "language": "python",
   "name": "python3"
  },
  "language_info": {
   "codemirror_mode": {
    "name": "ipython",
    "version": 3
   },
   "file_extension": ".py",
   "mimetype": "text/x-python",
   "name": "python",
   "nbconvert_exporter": "python",
   "pygments_lexer": "ipython3",
   "version": "3.8.10"
  }
 },
 "nbformat": 4,
 "nbformat_minor": 5
}
