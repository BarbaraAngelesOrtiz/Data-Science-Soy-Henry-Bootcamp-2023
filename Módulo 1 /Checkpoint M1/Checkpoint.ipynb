{
 "cells": [
  {
   "cell_type": "code",
   "execution_count": null,
   "metadata": {},
   "outputs": [],
   "source": [
    "import pandas as pd\n",
    "import numpy as np"
   ]
  },
  {
   "cell_type": "code",
   "execution_count": null,
   "metadata": {},
   "outputs": [],
   "source": []
  },
  {
   "cell_type": "code",
   "execution_count": null,
   "metadata": {},
   "outputs": [
    {
     "name": "stdout",
     "output_type": "stream",
     "text": [
      "55 55\n"
     ]
    }
   ],
   "source": [
    "df = pd.read_csv(r\"datasets/Fuentes_Consumo_Energia.csv\" , sep = ',')\n",
    "colombia= df[df['Entity'].isin(['Colombia'])].shape\n",
    "mexico= df[df['Entity'].isin(['Mexico'])].shape\n",
    "\n",
    "print(colombia[0],mexico[0])"
   ]
  },
  {
   "cell_type": "code",
   "execution_count": null,
   "metadata": {},
   "outputs": [
    {
     "data": {
      "text/plain": [
       "9"
      ]
     },
     "execution_count": 37,
     "metadata": {},
     "output_type": "execute_result"
    }
   ],
   "source": [
    "df = pd.read_csv(r\"datasets/Fuentes_Consumo_Energia.csv\", sep = ',')\n",
    "\n",
    "df.drop([\"Code\"], axis=\"columns\", inplace= True)\n",
    "df.drop([\"Entity\"], axis=\"columns\", inplace= True)\n",
    "cantidad_columnas = df.shape\n",
    "\n",
    "cantidad_columnas[1] "
   ]
  },
  {
   "cell_type": "code",
   "execution_count": null,
   "metadata": {},
   "outputs": [
    {
     "data": {
      "text/plain": [
       "5190"
      ]
     },
     "execution_count": 38,
     "metadata": {},
     "output_type": "execute_result"
    }
   ],
   "source": [
    "df = pd.read_csv(r\"datasets/Fuentes_Consumo_Energia.csv\", sep = ',')\n",
    "\n",
    "df['Year'].dropna().shape[0]"
   ]
  },
  {
   "cell_type": "code",
   "execution_count": null,
   "metadata": {},
   "outputs": [
    {
     "data": {
      "text/plain": [
       "146585.3"
      ]
     },
     "execution_count": 39,
     "metadata": {},
     "output_type": "execute_result"
    }
   ],
   "source": [
    "df = pd.read_csv(r\"datasets/Fuentes_Consumo_Energia.csv\", sep = ',')\n",
    "df['Consumo_Total'] = (df.Coal_Consumption_EJ*277.778 + \n",
    "                        df.Gas_Consumption_EJ*277.778 +\n",
    "                        df.Geo_Biomass_Other_TWh +\n",
    "                        df.Hydro_Generation_TWh +\n",
    "                        df.Nuclear_Generation_TWh +\n",
    "                        df.Solar_Generation_TWh +\n",
    "                        df.Wind_Generation_TWh +\n",
    "                        df.Oil_Consumption_EJ*277.778)\n",
    "\n",
    "round(float(df[(df.Entity == 'World') & (df.Year == 2019)]['Consumo_Total'].values),2)"
   ]
  },
  {
   "cell_type": "code",
   "execution_count": null,
   "metadata": {},
   "outputs": [
    {
     "data": {
      "text/plain": [
       "2013"
      ]
     },
     "execution_count": 40,
     "metadata": {},
     "output_type": "execute_result"
    }
   ],
   "source": [
    "df = pd.read_csv(r\"datasets/Fuentes_Consumo_Energia.csv\", sep = ',')\n",
    "mask = df[\"Entity\"] == \"Europe\"\n",
    "\n",
    "df = df[mask]\n",
    "\n",
    "indice = df.Hydro_Generation_TWh.idxmax() \n",
    "\n",
    "df.Year[indice]"
   ]
  },
  {
   "cell_type": "code",
   "execution_count": null,
   "metadata": {},
   "outputs": [],
   "source": [
    "def Ret_Pregunta06(m1, m2, m3):\n",
    "    '''\n",
    "    Esta función recibe tres array de Numpy de 2 dimensiones cada uno, y devuelve el valor booleano\n",
    "    True si es posible realizar una multiplicación entre las tres matrices (n1 x n2 x n3),\n",
    "    y el valor booleano False si no lo es\n",
    "    Ej:\n",
    "        n1 = np.array([[0,0,0],[1,1,1],[2,2,2]])\n",
    "        n2 = np.array([[3,3],[4,4],[5,5]])\n",
    "        n3 = np.array([1,1],[2,2])\n",
    "        print(Ret_Pregunta06(n1,n2,n3))\n",
    "            True            -> Valor devuelto por la función en este ejemplo\n",
    "        print(Ret_Pregunta06(n2,n1,n3))\n",
    "            False            -> Valor devuelto por la función en este ejemplo\n",
    "    '''\n",
    "    #Tu código aca:\n",
    "\n",
    "    if m1.shape[1] == m2.shape[0]:\n",
    "        if m2.shape[1] == m3.shape[0]:\n",
    "            return True\n",
    "        else:\n",
    "            return False\n",
    "    else:\n",
    "        return False"
   ]
  },
  {
   "cell_type": "code",
   "execution_count": null,
   "metadata": {},
   "outputs": [
    {
     "name": "stdout",
     "output_type": "stream",
     "text": [
      "False\n"
     ]
    }
   ],
   "source": [
    "n1 = np.array([[0,0,0],[1,1,1],[2,2,2]])\n",
    "n2 = np.array([[3,3],[4,4],[5,5]])\n",
    "n3 = np.array([[1,1],[2,2]])\n",
    "\n",
    "print(Ret_Pregunta06(n2,n1,n3))"
   ]
  },
  {
   "cell_type": "code",
   "execution_count": null,
   "metadata": {},
   "outputs": [
    {
     "data": {
      "text/plain": [
       "202185.8933"
      ]
     },
     "execution_count": 41,
     "metadata": {},
     "output_type": "execute_result"
    }
   ],
   "source": [
    "df = pd.read_csv(r\"datasets/GGAL - Cotizaciones historicas.csv\" , sep = ',')\n",
    "\n",
    "round(df.maximo.sum(),4)"
   ]
  },
  {
   "cell_type": "code",
   "execution_count": null,
   "metadata": {},
   "outputs": [
    {
     "data": {
      "text/plain": [
       "100"
      ]
     },
     "execution_count": 42,
     "metadata": {},
     "output_type": "execute_result"
    }
   ],
   "source": [
    "df = pd.read_csv(r\"datasets/Fuentes_Consumo_Energia.csv\", sep = ',')\n",
    "df[\"Entity\"].nunique()"
   ]
  },
  {
   "cell_type": "code",
   "execution_count": null,
   "metadata": {},
   "outputs": [
    {
     "name": "stdout",
     "output_type": "stream",
     "text": [
      "(630.26, 772.28)\n"
     ]
    }
   ],
   "source": [
    "#df_ejercicio1 = pd.read_csv(r\"datasets\\Tabla1_ejercicio.csv\", sep=';')\n",
    "#df_ejercicio2 = pd.read_csv(r\"datasets\\Tabla2_ejercicio.csv\", sep=';')\n",
    "\n",
    "df_ejercicio1 = pd.read_csv('./datasets/Tabla1_ejercicio.csv', sep=';')\n",
    "df_ejercicio2 = pd.read_csv('./datasets/Tabla2_ejercicio.csv', sep=';')\n",
    "\n",
    "df_final = pd.merge(df_ejercicio1,df_ejercicio2,on=\"pers_id\").drop_duplicates()\n",
    "    \n",
    "score_promedio_femenino = round(df_final[df_final.sexo==\"F\"].score.mean(),2)\n",
    "score_promedio_masculino = round(df_final[df_final.sexo==\"M\"].score.mean(),2)\n",
    "    \n",
    "tupla_final = (score_promedio_femenino, score_promedio_masculino)\n",
    "\n",
    "print(tupla_final)"
   ]
  },
  {
   "cell_type": "code",
   "execution_count": null,
   "metadata": {},
   "outputs": [],
   "source": [
    "def Ret_Pregunta10(lista):\n",
    "    '''\n",
    "    Esta función recibe como parámetro un objeto de la clase Lista() definida en el archivo Lista.py.\n",
    "    Debe recorrer la lista y retornan la cantidad de nodos que posee. Utilizar el método de la clase\n",
    "    Lista llamado getCabecera()\n",
    "    Ejemplo:\n",
    "        lis = Lista()\n",
    "        lista.agregarElemento(1)\n",
    "        lista.agregarElemento(2)\n",
    "        lista.agregarElemento(3)\n",
    "        print(Ret_Pregunta10(lista))\n",
    "            3    -> Debe ser el valor devuelto por la función Ret_Pregunta10() en este ejemplo\n",
    "    '''\n",
    "    #Tu código aca:\n",
    "    nodos=0\n",
    "\n",
    "    elemento = lista.getCabecera()\n",
    "\n",
    "    if elemento != None:\n",
    "        nodos = 1\n",
    "    else:\n",
    "        return 0\n",
    "\n",
    "    while elemento.getSiguiente() != None:\n",
    "        elemento = elemento.getSiguiente()\n",
    "        nodos += 1\n",
    "    \n",
    "    return nodos"
   ]
  },
  {
   "cell_type": "code",
   "execution_count": null,
   "metadata": {},
   "outputs": [],
   "source": [
    "class Nodo():\n",
    "    def __init__(self, dato):\n",
    "        self.__dato = dato\n",
    "        self.__siguiente = None\n",
    "\n",
    "    def getDato(self):\n",
    "        return self.__dato\n",
    "\n",
    "    def getSiguiente(self):\n",
    "        return self.__siguiente\n",
    "\n",
    "    def setDato(self, val):\n",
    "        self.__dato = val\n",
    "\n",
    "    def setSiguiente(self, val):\n",
    "        self.__siguiente = val\n",
    "\n",
    "class Lista():\n",
    "    def __init__(self):\n",
    "        self.__cabecera = None\n",
    "\n",
    "    def agregarElemento(self,dato):\n",
    "        if (self.__cabecera != None):\n",
    "            puntero = self.__cabecera\n",
    "            while(puntero != None):\n",
    "                if(puntero.getSiguiente() == None):\n",
    "                    puntero.setSiguiente(Nodo(dato))\n",
    "                    break\n",
    "                puntero = puntero.getSiguiente()\n",
    "        else:\n",
    "            self.__cabecera = Nodo(dato)\n",
    "\n",
    "    def contarElementos(self):\n",
    "        if (self.__cabecera == None):\n",
    "            return 0\n",
    "        else:\n",
    "            contador = 1\n",
    "            puntero = self.__cabecera\n",
    "            while(puntero.getSiguiente() != None):\n",
    "                contador += 1\n",
    "                puntero = puntero.getSiguiente()\n",
    "            return contador\n",
    "\n",
    "    def getCabecera(self):\n",
    "        return self.__cabecera"
   ]
  },
  {
   "cell_type": "code",
   "execution_count": null,
   "metadata": {},
   "outputs": [
    {
     "name": "stdout",
     "output_type": "stream",
     "text": [
      "0\n"
     ]
    },
    {
     "ename": "TypeError",
     "evalue": "Lista.agregarElemento() missing 1 required positional argument: 'dato'",
     "output_type": "error",
     "traceback": [
      "\u001b[1;31m---------------------------------------------------------------------------\u001b[0m",
      "\u001b[1;31mTypeError\u001b[0m                                 Traceback (most recent call last)",
      "Cell \u001b[1;32mIn[33], line 3\u001b[0m\n\u001b[0;32m      1\u001b[0m lis \u001b[39m=\u001b[39m Lista()\n\u001b[0;32m      2\u001b[0m \u001b[39mprint\u001b[39m(Ret_Pregunta10(lis))\n\u001b[1;32m----> 3\u001b[0m Lista\u001b[39m.\u001b[39;49magregarElemento(\u001b[39m1\u001b[39;49m)\n\u001b[0;32m      4\u001b[0m Lista\u001b[39m.\u001b[39magregarElemento(\u001b[39m2\u001b[39m)\n\u001b[0;32m      5\u001b[0m Lista\u001b[39m.\u001b[39magregarElemento(\u001b[39m3\u001b[39m)\n",
      "\u001b[1;31mTypeError\u001b[0m: Lista.agregarElemento() missing 1 required positional argument: 'dato'"
     ]
    }
   ],
   "source": [
    "\n",
    "lis = Lista()\n",
    "print(Ret_Pregunta10(lis))\n",
    "Lista.agregarElemento(1)\n",
    "Lista.agregarElemento(2)\n",
    "Lista.agregarElemento(3)\n"
   ]
  }
 ],
 "metadata": {
  "kernelspec": {
   "display_name": "Python 3",
   "language": "python",
   "name": "python3"
  },
  "language_info": {
   "codemirror_mode": {
    "name": "ipython",
    "version": 3
   },
   "file_extension": ".py",
   "mimetype": "text/x-python",
   "name": "python",
   "nbconvert_exporter": "python",
   "pygments_lexer": "ipython3",
   "version": "3.11.2"
  },
  "orig_nbformat": 4,
  "vscode": {
   "interpreter": {
    "hash": "69117183018b72484a6c6d0cbe06a1846585933f57820d0849135136a27bb87b"
   }
  }
 },
 "nbformat": 4,
 "nbformat_minor": 2
}
