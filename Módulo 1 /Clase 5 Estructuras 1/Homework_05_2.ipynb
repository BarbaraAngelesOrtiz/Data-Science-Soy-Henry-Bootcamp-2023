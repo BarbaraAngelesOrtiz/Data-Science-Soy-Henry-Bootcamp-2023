{
 "cells": [
  {
   "cell_type": "markdown",
   "id": "6aeb17fa-51d3-499a-bf85-23b1130e838e",
   "metadata": {},
   "source": [
    "# Práctica Clase 5"
   ]
  },
  {
   "cell_type": "code",
   "execution_count": null,
   "id": "e67e921e-8c48-46e3-b49c-c600602eb544",
   "metadata": {},
   "outputs": [],
   "source": []
  },
  {
   "cell_type": "markdown",
   "id": "a2f5ece2-76e4-44fd-83bd-f2800311b735",
   "metadata": {},
   "source": [
    "1) Implementar un juego, que consista en apilar números enteros del 1 al 20, de forma aleatoria, para lo cual debe usarse una estructura de Pila. \n",
    "Luego, el usuario debe elegir un número de veces en que se va a quitar elementos de la pila, los cuales, sumados entre sí, no deben superar el valor de 50.\n",
    "El usuario pierde si la suma supera ese valor. Si no lo supera, gana, pero su calificación será 20 menos el número elementos que falten quitar para todavía no superar 50.\n",
    "El programa debe informar si perdió, y si ganó, con qué calificación lo hizo.\n",
    "\n",
    "Consideraciones:<br>\n",
    "a. Se puede usar la función input() para obtener una entrada de teclado.<br>\n",
    "b. Se puede usar la el modulo random para obtener valores aleatorios."
   ]
  },
  {
   "cell_type": "code",
   "execution_count": 16,
   "id": "b329fc89-31ff-43e3-8af2-109a4243cf84",
   "metadata": {},
   "outputs": [],
   "source": [
    "import random as r"
   ]
  },
  {
   "cell_type": "code",
   "execution_count": 62,
   "id": "abf48d1d-fa5e-45b9-af4f-f58a0d1741e0",
   "metadata": {},
   "outputs": [],
   "source": [
    "\n",
    "class Pila():\n",
    "    \n",
    "    # inicialmente generamos un init con la lista y el puntaje inicial\n",
    "    \n",
    "    def __init__(self):\n",
    "        \n",
    "        self.__lista = []\n",
    "        self.__puntaje = 20\n",
    "        \n",
    "        # generamos una lista del 1 al 20 con un for\n",
    "        conteo = 1\n",
    "        \n",
    "        for _ in range(20):\n",
    "            \n",
    "            self.__lista.append(conteo)\n",
    "            conteo += 1 \n",
    "        # revolvemos la lista \n",
    "        r.shuffle(self.__lista)\n",
    "    # generamos una función para imprimir en pantalla la lista\n",
    "    def mirar_lista(self):\n",
    "        print(self.__lista)\n",
    "    # generamos una funcion la cual quite los ultimos elementos de la lista\n",
    "    def quitar_elemento(self):\n",
    "        return self.__lista.pop(-1)\n",
    "    # con lo anterior generamos una funcion para jugar\n",
    "    def jugar(self):\n",
    "        \n",
    "        print(\"Bienvenido al Juego de la Pila:\")\n",
    "        print(\"\")\n",
    "        print(\"El juego consiste en que tienes una pila con 20 numeros del 1 al 10\")\n",
    "        print(\"\"\"ordenados aleatoriamente. Debe elegir un número de veces en que se va \n",
    "a quitar elementos de la pila, los cuales sumados entre sí, no deben superar\n",
    "el valor de 50. Pierde si la suma supera ese valor. Si no lo supera gana, \n",
    "pero su calificación será 10 menos el número elementos que falten quitar \n",
    "para todavía no superar 50. \n",
    "              \n",
    "              ¡¡BUENA SUERTE!!\"\"\")  \n",
    "        \n",
    "        #ingresamos la cantidad de elementos a quitar\n",
    "        elementos = input(\"¿cuántos elementos desea quitar de la pila?\")\n",
    "        # nos cercioramos que realmente escogimos un numero valido\n",
    "        while int(elementos) <= 0 or int(elementos) > 20:\n",
    "            \n",
    "            print(\"tienes que colocar un número entre 1 y 20\")\n",
    "            elementos = input(\"¿cuántos elementos desea quitar de la pila?\")\n",
    "        # unicio una suma del puntaje\n",
    "        suma = 0\n",
    "        # genero un for para ir quitando elementos\n",
    "        for i in range(int(elementos)):\n",
    "            # sumamos los elementso\n",
    "            suma += self.quitar_elemento()\n",
    "            #si pierdo genero una condicional para imprimir en pantalla que perdimos\n",
    "            if suma >= 50:\n",
    "                print(\"Perdiste, la suma de\", i + 1, \"elementos que se quitaron son \", suma)\n",
    "                self.__lista = []\n",
    "                conteo = 1\n",
    "                for _ in range(20):\n",
    "            \n",
    "                    self.__lista.append(conteo)\n",
    "                    conteo += 1 \n",
    "            \n",
    "                r.shuffle(self.__lista)\n",
    "                break\n",
    "                \n",
    "            # si ganamos se imprime en pantalla los siguiente que se espera que se gane cuando se hayan quitado la cantidad de elementos\n",
    "            if i == int(elementos)-1:\n",
    "                self.__puntaje -= len(self.__lista)\n",
    "                print(\"Ganaste, tu puntaje es\", self.__puntaje)\n",
    "                self.__puntaje = 20\n",
    "                self.__lista = []\n",
    "                conteo = 1\n",
    "                for _ in range(20):\n",
    "            \n",
    "                    self.__lista.append(conteo)\n",
    "                    conteo += 1 \n",
    "            \n",
    "                r.shuffle(self.__lista)\n",
    "                break \n",
    "        "
   ]
  },
  {
   "cell_type": "code",
   "execution_count": 63,
   "id": "52f3ee54-1d6c-4a74-941a-c0f2e9eb3b2a",
   "metadata": {},
   "outputs": [],
   "source": [
    "pila = Pila()"
   ]
  },
  {
   "cell_type": "code",
   "execution_count": 69,
   "id": "44d174ea-cd01-47fd-b7b2-b59e30de6cd8",
   "metadata": {},
   "outputs": [
    {
     "data": {
      "text/plain": [
       "2"
      ]
     },
     "execution_count": 69,
     "metadata": {},
     "output_type": "execute_result"
    }
   ],
   "source": [
    "r.randint(1,20)"
   ]
  },
  {
   "cell_type": "code",
   "execution_count": 85,
   "id": "9915e814-70ec-4970-b89b-f3266c5610c9",
   "metadata": {},
   "outputs": [
    {
     "name": "stdout",
     "output_type": "stream",
     "text": [
      "45\n"
     ]
    }
   ],
   "source": [
    "print(1+2+3+4+5+6+7+8+9)"
   ]
  },
  {
   "cell_type": "code",
   "execution_count": 82,
   "id": "2a83e343-a499-40e7-af15-683609e6d3b9",
   "metadata": {},
   "outputs": [],
   "source": [
    "lista = [1,2,3,4,5]\n",
    "\n",
    "r.shuffle(lista)"
   ]
  },
  {
   "cell_type": "code",
   "execution_count": 83,
   "id": "90748f0e-b9b5-4839-aaeb-60a2b654d70a",
   "metadata": {},
   "outputs": [
    {
     "data": {
      "text/plain": [
       "[5, 4, 2, 3, 1]"
      ]
     },
     "execution_count": 83,
     "metadata": {},
     "output_type": "execute_result"
    }
   ],
   "source": [
    "lista"
   ]
  },
  {
   "cell_type": "code",
   "execution_count": 32,
   "id": "b2a6ea0e-c93f-43fa-b0e4-c03bb569c9d7",
   "metadata": {},
   "outputs": [
    {
     "name": "stdout",
     "output_type": "stream",
     "text": [
      "[15, 10, 13, 16, 19, 12, 3, 20, 17, 9, 5, 6, 11, 18, 1, 14, 8, 2, 4, 7]\n"
     ]
    }
   ],
   "source": [
    "pila.mirar_lista()"
   ]
  },
  {
   "cell_type": "code",
   "execution_count": 33,
   "id": "571b5ef4-89d6-427d-bdb0-d0eb1b377c15",
   "metadata": {},
   "outputs": [
    {
     "data": {
      "text/plain": [
       "7"
      ]
     },
     "execution_count": 33,
     "metadata": {},
     "output_type": "execute_result"
    }
   ],
   "source": [
    "pila.quitar_elemento()"
   ]
  },
  {
   "cell_type": "code",
   "execution_count": 34,
   "id": "2c2b66d9-eddf-4ac1-81f7-f5e03994dcc7",
   "metadata": {},
   "outputs": [
    {
     "name": "stdout",
     "output_type": "stream",
     "text": [
      "[15, 10, 13, 16, 19, 12, 3, 20, 17, 9, 5, 6, 11, 18, 1, 14, 8, 2, 4]\n"
     ]
    }
   ],
   "source": [
    "pila.mirar_lista()"
   ]
  },
  {
   "cell_type": "code",
   "execution_count": 86,
   "id": "186df8c1-c7ae-465d-82ea-a601de7251d1",
   "metadata": {},
   "outputs": [
    {
     "name": "stdout",
     "output_type": "stream",
     "text": [
      "Bienvenido al Juego de la Pila:\n",
      "\n",
      "El juego consiste en que tienes una pila con 20 numeros del 1 al 10\n",
      "ordenados aleatoriamente. Debe elegir un número de veces en que se va \n",
      "a quitar elementos de la pila, los cuales sumados entre sí, no deben superar\n",
      "el valor de 50. Pierde si la suma supera ese valor. Si no lo supera gana, \n",
      "pero su calificación será 10 menos el número elementos que falten quitar \n",
      "para todavía no superar 50. \n",
      "              \n",
      "              ¡¡BUENA SUERTE!!\n"
     ]
    },
    {
     "name": "stdin",
     "output_type": "stream",
     "text": [
      "¿cuántos elementos desea quitar de la pila? 3\n"
     ]
    },
    {
     "name": "stdout",
     "output_type": "stream",
     "text": [
      "Ganaste, tu puntaje es 3\n"
     ]
    }
   ],
   "source": [
    "pila.jugar()"
   ]
  },
  {
   "cell_type": "markdown",
   "id": "66783f9d-478b-4a33-b6ae-d8735dce5dac",
   "metadata": {},
   "source": [
    "2) Implementar un juego donde constas de 2 jarras, de capacidad 5 y 3 litros respectivamente, y debes colocar 4 litros en la jarra de 5L.\n",
    "Las opciones posibles son:\n",
    "* Llenar la jarra de 3 litros\n",
    "* Llenar la jarra de 5 litros\n",
    "* Vaciar la jarra de 3 litros\n",
    "* Vaciar la jarra de 5 litros\n",
    "* Verter el contenido de la jarra de 3 litros en la de 5 litros\n",
    "* Verter el contenido de la jarra de 5 litros en la de 3 litros"
   ]
  },
  {
   "cell_type": "code",
   "execution_count": 113,
   "id": "8ef2cb0f-6923-4cb4-a634-fa2cbfae0a50",
   "metadata": {},
   "outputs": [],
   "source": [
    "class Jarra():\n",
    "    # iniciamos con las dos jarras\n",
    "    def __init__(self):\n",
    "        \n",
    "        self.__jarra_3_litros = 0\n",
    "        self.__jarra_5_litros = 0\n",
    "    # generamos una consulta para mirar las jarras\n",
    "    def consultar(self):\n",
    "        print(\"En la jarra de 3 hay\",  self.__jarra_3_litros, \"litros\")\n",
    "        print(\"En la jarra de 5 hay\",  self.__jarra_5_litros, \"litros\")\n",
    "    # hacemos una funcion para llenar jarras\n",
    "    def llenar(self, numero):\n",
    "        if numero == 3:\n",
    "            \n",
    "            self.__jarra_3_litros = 3\n",
    "        elif numero == 5:\n",
    "            self.__jarra_5_litros = 5\n",
    "        else:\n",
    "            print(\"no se escogió ninguna jarra, las disponibles son la jarra 3 y la jarra 5\")\n",
    "    # hacemos una funcion para vaciar jarras\n",
    "    def vaciar(self, numero):\n",
    "        \n",
    "        if numero == 3:\n",
    "            self.__jarra_3_litros = 0 \n",
    "        elif numero == 5:\n",
    "            self.__jarra_5_litros = 0\n",
    "        else:\n",
    "            print(\"no se escogió ninguna jarra, las disponibles son la jarra 3 y la jarra 5\")\n",
    "    # hacemos un elemento para verter jarras entre si\n",
    "    def verter(self, numero):\n",
    "        \n",
    "        if numero == 3:\n",
    "            if self.__jarra_5_litros == 0:\n",
    "                self.__jarra_5_litros += self.__jarra_3_litros\n",
    "                self.__jarra_3_litros = 0\n",
    "            else:\n",
    "                while (self.__jarra_3_litros != 0 and self.__jarra_5_litros <5):\n",
    "                    self.__jarra_5_litros += 1\n",
    "                    self.__jarra_3_litros -= 1\n",
    "        \n",
    "        if numero == 5:\n",
    "            if self.__jarra_5_litros == 0:\n",
    "                pass\n",
    "            else:\n",
    "                while (self.__jarra_5_litros != 0 and self.__jarra_3_litros <3):\n",
    "                    self.__jarra_3_litros += 1\n",
    "                    self.__jarra_5_litros -= 1\n",
    "        \n",
    "        "
   ]
  },
  {
   "cell_type": "code",
   "execution_count": 114,
   "id": "059dcdab-8a51-42e0-9a75-dcf2ae7c826b",
   "metadata": {},
   "outputs": [],
   "source": [
    "jarra = Jarra()"
   ]
  },
  {
   "cell_type": "code",
   "execution_count": 115,
   "id": "067e7ccc-8e14-4b66-b4f4-ffe5abce25ef",
   "metadata": {},
   "outputs": [
    {
     "name": "stdout",
     "output_type": "stream",
     "text": [
      "En la jarra de 3 hay 0 litros\n",
      "En la jarra de 5 hay 0 litros\n"
     ]
    }
   ],
   "source": [
    "jarra.consultar()"
   ]
  },
  {
   "cell_type": "code",
   "execution_count": 116,
   "id": "b60262c9-7b49-4235-9035-f87533d7a18e",
   "metadata": {},
   "outputs": [],
   "source": [
    "jarra.llenar(5)"
   ]
  },
  {
   "cell_type": "code",
   "execution_count": 104,
   "id": "f34ef730-033c-4a42-8e88-0f7b238a4857",
   "metadata": {},
   "outputs": [
    {
     "name": "stdout",
     "output_type": "stream",
     "text": [
      "En la jarra de 3 hay 0 litros\n",
      "En la jarra de 5 hay 5 litros\n"
     ]
    }
   ],
   "source": [
    "jarra.consultar()"
   ]
  },
  {
   "cell_type": "code",
   "execution_count": 117,
   "id": "dd9c27b5-73e6-460b-9a37-a3fae846f15c",
   "metadata": {},
   "outputs": [],
   "source": [
    "jarra.llenar(3)"
   ]
  },
  {
   "cell_type": "code",
   "execution_count": 118,
   "id": "f930282d-1848-48dd-b900-524544c3d84d",
   "metadata": {},
   "outputs": [
    {
     "name": "stdout",
     "output_type": "stream",
     "text": [
      "En la jarra de 3 hay 3 litros\n",
      "En la jarra de 5 hay 5 litros\n"
     ]
    }
   ],
   "source": [
    "jarra.consultar()"
   ]
  },
  {
   "cell_type": "code",
   "execution_count": 119,
   "id": "59425fd1-d169-46d6-9817-9683367fd305",
   "metadata": {},
   "outputs": [],
   "source": [
    "jarra.vaciar(3)"
   ]
  },
  {
   "cell_type": "code",
   "execution_count": 120,
   "id": "e6494c79-6239-4669-b551-fcd803be5a8b",
   "metadata": {},
   "outputs": [
    {
     "name": "stdout",
     "output_type": "stream",
     "text": [
      "En la jarra de 3 hay 0 litros\n",
      "En la jarra de 5 hay 5 litros\n"
     ]
    }
   ],
   "source": [
    "jarra.consultar()"
   ]
  },
  {
   "cell_type": "code",
   "execution_count": 121,
   "id": "f22552cf-ffa0-4b8b-bde2-041c25da9693",
   "metadata": {},
   "outputs": [],
   "source": [
    "jarra.verter(5)"
   ]
  },
  {
   "cell_type": "code",
   "execution_count": 122,
   "id": "8226e0a5-de29-4137-a535-445bc376a495",
   "metadata": {},
   "outputs": [
    {
     "name": "stdout",
     "output_type": "stream",
     "text": [
      "En la jarra de 3 hay 3 litros\n",
      "En la jarra de 5 hay 2 litros\n"
     ]
    }
   ],
   "source": [
    "jarra.consultar()"
   ]
  },
  {
   "cell_type": "code",
   "execution_count": 141,
   "id": "0fd6fe90-343c-4fab-a25a-f16e5d74f37e",
   "metadata": {},
   "outputs": [],
   "source": [
    "jarra = Jarra()"
   ]
  },
  {
   "cell_type": "code",
   "execution_count": 142,
   "id": "b7897639-e204-49a5-99c8-f64a54337619",
   "metadata": {},
   "outputs": [],
   "source": [
    "jarra.llenar(5)"
   ]
  },
  {
   "cell_type": "code",
   "execution_count": 144,
   "id": "8d6fd89c-31ed-4081-b297-bd3d953cdc73",
   "metadata": {},
   "outputs": [
    {
     "name": "stdout",
     "output_type": "stream",
     "text": [
      "En la jarra de 3 hay 0 litros\n",
      "En la jarra de 5 hay 5 litros\n"
     ]
    }
   ],
   "source": [
    "jarra.consultar()"
   ]
  },
  {
   "cell_type": "code",
   "execution_count": 145,
   "id": "7122de4c-4ab9-4863-ae77-e0277459de2d",
   "metadata": {},
   "outputs": [],
   "source": [
    "jarra.verter(5)"
   ]
  },
  {
   "cell_type": "code",
   "execution_count": 146,
   "id": "2a6b870e-e4ef-4508-93c9-b52c9f185a16",
   "metadata": {},
   "outputs": [
    {
     "name": "stdout",
     "output_type": "stream",
     "text": [
      "En la jarra de 3 hay 3 litros\n",
      "En la jarra de 5 hay 2 litros\n"
     ]
    }
   ],
   "source": [
    "jarra.consultar()"
   ]
  },
  {
   "cell_type": "code",
   "execution_count": 147,
   "id": "2714b796-f5a9-484a-9bd8-3e6b1f29e0e1",
   "metadata": {},
   "outputs": [],
   "source": [
    "jarra.vaciar(3)"
   ]
  },
  {
   "cell_type": "code",
   "execution_count": 148,
   "id": "973a9994-b862-4f79-970f-f272ef793b3d",
   "metadata": {},
   "outputs": [
    {
     "name": "stdout",
     "output_type": "stream",
     "text": [
      "En la jarra de 3 hay 0 litros\n",
      "En la jarra de 5 hay 2 litros\n"
     ]
    }
   ],
   "source": [
    "jarra.consultar()"
   ]
  },
  {
   "cell_type": "code",
   "execution_count": 149,
   "id": "86a1ae80-d3d1-4adb-bfab-6fbe768d8e0f",
   "metadata": {},
   "outputs": [],
   "source": [
    "jarra.verter(5)"
   ]
  },
  {
   "cell_type": "code",
   "execution_count": 150,
   "id": "b197e8d8-7c94-42a4-b895-e21728ed1cac",
   "metadata": {},
   "outputs": [
    {
     "name": "stdout",
     "output_type": "stream",
     "text": [
      "En la jarra de 3 hay 2 litros\n",
      "En la jarra de 5 hay 0 litros\n"
     ]
    }
   ],
   "source": [
    "jarra.consultar()"
   ]
  },
  {
   "cell_type": "code",
   "execution_count": 151,
   "id": "1091f01d-2009-446c-8632-1ca6016c3615",
   "metadata": {},
   "outputs": [],
   "source": [
    "jarra.llenar(5)"
   ]
  },
  {
   "cell_type": "code",
   "execution_count": 152,
   "id": "915b2baa-4bf7-4528-b032-cf93418c2fdb",
   "metadata": {},
   "outputs": [
    {
     "name": "stdout",
     "output_type": "stream",
     "text": [
      "En la jarra de 3 hay 2 litros\n",
      "En la jarra de 5 hay 5 litros\n"
     ]
    }
   ],
   "source": [
    "jarra.consultar()"
   ]
  },
  {
   "cell_type": "code",
   "execution_count": 153,
   "id": "8ec3ee1d-e022-4144-a708-aae266ea2a34",
   "metadata": {},
   "outputs": [],
   "source": [
    "jarra.verter(5)"
   ]
  },
  {
   "cell_type": "code",
   "execution_count": 154,
   "id": "39b120c2-5ed5-41a4-ad43-c0a8da16e17e",
   "metadata": {},
   "outputs": [
    {
     "name": "stdout",
     "output_type": "stream",
     "text": [
      "En la jarra de 3 hay 3 litros\n",
      "En la jarra de 5 hay 4 litros\n"
     ]
    }
   ],
   "source": [
    "jarra.consultar()"
   ]
  }
 ],
 "metadata": {
  "kernelspec": {
   "display_name": "Python 3 (ipykernel)",
   "language": "python",
   "name": "python3"
  },
  "language_info": {
   "codemirror_mode": {
    "name": "ipython",
    "version": 3
   },
   "file_extension": ".py",
   "mimetype": "text/x-python",
   "name": "python",
   "nbconvert_exporter": "python",
   "pygments_lexer": "ipython3",
   "version": "3.8.10"
  }
 },
 "nbformat": 4,
 "nbformat_minor": 5
}
